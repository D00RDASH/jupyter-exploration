{
  "nbformat": 4,
  "nbformat_minor": 0,
  "metadata": {
    "colab": {
      "provenance": []
    },
    "kernelspec": {
      "name": "python3",
      "display_name": "Python 3"
    },
    "language_info": {
      "name": "python"
    }
  },
  "cells": [
    {
      "cell_type": "markdown",
      "source": [
        "My first markdown cell in Jupyter."
      ],
      "metadata": {
        "id": "7QhaEBzk703N"
      }
    },
    {
      "cell_type": "code",
      "source": [
        "print('This is Jeremy\\'s code')"
      ],
      "metadata": {
        "colab": {
          "base_uri": "https://localhost:8080/"
        },
        "id": "MHrmdnjm8ChG",
        "outputId": "a6a2545b-2344-433e-e018-72e94f5b3493"
      },
      "execution_count": 3,
      "outputs": [
        {
          "output_type": "stream",
          "name": "stdout",
          "text": [
            "This is Jeremy's code\n"
          ]
        }
      ]
    }
  ]
}